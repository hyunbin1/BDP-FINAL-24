{
 "cells": [
  {
   "cell_type": "code",
   "execution_count": 9,
   "metadata": {},
   "outputs": [
    {
     "name": "stdout",
     "output_type": "stream",
     "text": [
      "    지역  영유아 및 청소년층    청년층    중년층    장년층    노년층\n",
      "1  종로구       16269  39092  29050  36002  29598\n",
      "2   중구       12542  33717  28489  30129  26712\n",
      "3  용산구       25802  52298  50497  50523  39250\n",
      "4  성동구       34300  68303  62993  65964  50825\n",
      "5  광진구       39197  98911  72466  79715  59018\n",
      "<class 'pandas.core.frame.DataFrame'>\n",
      "Index: 25 entries, 1 to 25\n",
      "Data columns (total 6 columns):\n",
      " #   Column      Non-Null Count  Dtype \n",
      "---  ------      --------------  ----- \n",
      " 0   지역          25 non-null     object\n",
      " 1   영유아 및 청소년층  25 non-null     int64 \n",
      " 2   청년층         25 non-null     int64 \n",
      " 3   중년층         25 non-null     int64 \n",
      " 4   장년층         25 non-null     int64 \n",
      " 5   노년층         25 non-null     int64 \n",
      "dtypes: int64(5), object(1)\n",
      "memory usage: 1.4+ KB\n",
      "None\n",
      "         영유아 및 청소년층           청년층            중년층            장년층            노년층\n",
      "count     25.000000      25.00000      25.000000      25.000000      25.000000\n",
      "mean   49533.480000   89105.56000   83791.080000   89630.240000   72156.400000\n",
      "std    22578.825881   30987.17784   31355.724121   28297.013762   22312.691305\n",
      "min    12542.000000   33717.00000   28489.000000   30129.000000   26712.000000\n",
      "25%    35268.000000   68303.00000   62993.000000   75649.000000   59497.000000\n",
      "50%    45384.000000   93513.00000   86816.000000   90147.000000   72471.000000\n",
      "75%    70560.000000  100747.00000   98692.000000  108501.000000   87016.000000\n",
      "max    99008.000000  170380.00000  156683.000000  149171.000000  113015.000000\n"
     ]
    },
    {
     "ename": "KeyError",
     "evalue": "'중장년층'",
     "output_type": "error",
     "traceback": [
      "\u001b[1;31m---------------------------------------------------------------------------\u001b[0m",
      "\u001b[1;31mKeyError\u001b[0m                                  Traceback (most recent call last)",
      "Cell \u001b[1;32mIn[9], line 23\u001b[0m\n\u001b[0;32m     20\u001b[0m \u001b[38;5;28mprint\u001b[39m(df_filtered\u001b[38;5;241m.\u001b[39mdescribe())\n\u001b[0;32m     22\u001b[0m \u001b[38;5;66;03m# 3. 지역별 상위 10개 (중장년층 기준)\u001b[39;00m\n\u001b[1;32m---> 23\u001b[0m top_regions \u001b[38;5;241m=\u001b[39m \u001b[43mdf_filtered\u001b[49m\u001b[38;5;241;43m.\u001b[39;49m\u001b[43msort_values\u001b[49m\u001b[43m(\u001b[49m\u001b[43mby\u001b[49m\u001b[38;5;241;43m=\u001b[39;49m\u001b[38;5;124;43m\"\u001b[39;49m\u001b[38;5;124;43m중장년층\u001b[39;49m\u001b[38;5;124;43m\"\u001b[39;49m\u001b[43m,\u001b[49m\u001b[43m \u001b[49m\u001b[43mascending\u001b[49m\u001b[38;5;241;43m=\u001b[39;49m\u001b[38;5;28;43;01mFalse\u001b[39;49;00m\u001b[43m)\u001b[49m\u001b[38;5;241m.\u001b[39mhead(\u001b[38;5;241m10\u001b[39m)\n\u001b[0;32m     24\u001b[0m \u001b[38;5;28mprint\u001b[39m(top_regions)\n\u001b[0;32m     26\u001b[0m \u001b[38;5;66;03m# 4. 시각화 - 지역별 계층 인구 분포\u001b[39;00m\n",
      "File \u001b[1;32mc:\\Users\\USER\\AppData\\Local\\Programs\\Python\\Python312\\Lib\\site-packages\\pandas\\core\\frame.py:7189\u001b[0m, in \u001b[0;36mDataFrame.sort_values\u001b[1;34m(self, by, axis, ascending, inplace, kind, na_position, ignore_index, key)\u001b[0m\n\u001b[0;32m   7183\u001b[0m     indexer \u001b[38;5;241m=\u001b[39m lexsort_indexer(\n\u001b[0;32m   7184\u001b[0m         keys, orders\u001b[38;5;241m=\u001b[39mascending, na_position\u001b[38;5;241m=\u001b[39mna_position, key\u001b[38;5;241m=\u001b[39mkey\n\u001b[0;32m   7185\u001b[0m     )\n\u001b[0;32m   7186\u001b[0m \u001b[38;5;28;01melif\u001b[39;00m \u001b[38;5;28mlen\u001b[39m(by):\n\u001b[0;32m   7187\u001b[0m     \u001b[38;5;66;03m# len(by) == 1\u001b[39;00m\n\u001b[1;32m-> 7189\u001b[0m     k \u001b[38;5;241m=\u001b[39m \u001b[38;5;28;43mself\u001b[39;49m\u001b[38;5;241;43m.\u001b[39;49m\u001b[43m_get_label_or_level_values\u001b[49m\u001b[43m(\u001b[49m\u001b[43mby\u001b[49m\u001b[43m[\u001b[49m\u001b[38;5;241;43m0\u001b[39;49m\u001b[43m]\u001b[49m\u001b[43m,\u001b[49m\u001b[43m \u001b[49m\u001b[43maxis\u001b[49m\u001b[38;5;241;43m=\u001b[39;49m\u001b[43maxis\u001b[49m\u001b[43m)\u001b[49m\n\u001b[0;32m   7191\u001b[0m     \u001b[38;5;66;03m# need to rewrap column in Series to apply key function\u001b[39;00m\n\u001b[0;32m   7192\u001b[0m     \u001b[38;5;28;01mif\u001b[39;00m key \u001b[38;5;129;01mis\u001b[39;00m \u001b[38;5;129;01mnot\u001b[39;00m \u001b[38;5;28;01mNone\u001b[39;00m:\n\u001b[0;32m   7193\u001b[0m         \u001b[38;5;66;03m# error: Incompatible types in assignment (expression has type\u001b[39;00m\n\u001b[0;32m   7194\u001b[0m         \u001b[38;5;66;03m# \"Series\", variable has type \"ndarray\")\u001b[39;00m\n",
      "File \u001b[1;32mc:\\Users\\USER\\AppData\\Local\\Programs\\Python\\Python312\\Lib\\site-packages\\pandas\\core\\generic.py:1911\u001b[0m, in \u001b[0;36mNDFrame._get_label_or_level_values\u001b[1;34m(self, key, axis)\u001b[0m\n\u001b[0;32m   1909\u001b[0m     values \u001b[38;5;241m=\u001b[39m \u001b[38;5;28mself\u001b[39m\u001b[38;5;241m.\u001b[39maxes[axis]\u001b[38;5;241m.\u001b[39mget_level_values(key)\u001b[38;5;241m.\u001b[39m_values\n\u001b[0;32m   1910\u001b[0m \u001b[38;5;28;01melse\u001b[39;00m:\n\u001b[1;32m-> 1911\u001b[0m     \u001b[38;5;28;01mraise\u001b[39;00m \u001b[38;5;167;01mKeyError\u001b[39;00m(key)\n\u001b[0;32m   1913\u001b[0m \u001b[38;5;66;03m# Check for duplicates\u001b[39;00m\n\u001b[0;32m   1914\u001b[0m \u001b[38;5;28;01mif\u001b[39;00m values\u001b[38;5;241m.\u001b[39mndim \u001b[38;5;241m>\u001b[39m \u001b[38;5;241m1\u001b[39m:\n",
      "\u001b[1;31mKeyError\u001b[0m: '중장년층'"
     ]
    }
   ],
   "source": [
    "import pandas as pd\n",
    "import matplotlib.pyplot as plt\n",
    "\n",
    "# 한국어 폰트 설정\n",
    "plt.rcParams[\"font.family\"] = \"Malgun Gothic\"  # 맑은 고딕\n",
    "plt.rcParams[\"axes.unicode_minus\"] = False    # 마이너스 기호 문제 방지\n",
    "\n",
    "# CSV 파일 읽기\n",
    "file_path = 'C:/Users/USER/Desktop/people.csv'\n",
    "df = pd.read_csv(file_path, encoding=\"utf-8\")\n",
    "\n",
    "# \"합계\" 행 제거\n",
    "df_filtered = df[df[\"지역\"] != \"합계\"]\n",
    "\n",
    "# 1. 데이터 구조 확인\n",
    "print(df_filtered.head())\n",
    "print(df_filtered.info())\n",
    "\n",
    "# 2. 통계 요약\n",
    "print(df_filtered.describe())\n",
    "\n",
    "# 3. 지역별 상위 10개 (중장년층 기준)\n",
    "top_regions = df_filtered.sort_values(by=\"중년층\", ascending=False).head(10)\n",
    "print(top_regions)\n",
    "\n",
    "# 4. 시각화 - 지역별 계층 인구 분포\n",
    "df_filtered.plot(x=\"지역\", y=[\"영유아 및 청소년층\", \"청년층\", \"중년층\",\"장년층\", \"노년층\"], kind=\"bar\", figsize=(14, 7))\n",
    "plt.title(\"자치구별 계층 인구 분포\")\n",
    "plt.xlabel(\"자치구\")\n",
    "plt.ylabel(\"인구수\")\n",
    "plt.legend(loc=\"upper right\")\n",
    "plt.show()\n",
    "\n"
   ]
  }
 ],
 "metadata": {
  "kernelspec": {
   "display_name": "Python 3",
   "language": "python",
   "name": "python3"
  },
  "language_info": {
   "codemirror_mode": {
    "name": "ipython",
    "version": 3
   },
   "file_extension": ".py",
   "mimetype": "text/x-python",
   "name": "python",
   "nbconvert_exporter": "python",
   "pygments_lexer": "ipython3",
   "version": "3.12.6"
  }
 },
 "nbformat": 4,
 "nbformat_minor": 2
}
